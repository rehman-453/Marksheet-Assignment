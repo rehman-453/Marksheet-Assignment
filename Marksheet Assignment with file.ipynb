{
 "cells": [
  {
   "cell_type": "code",
   "execution_count": 8,
   "metadata": {},
   "outputs": [
    {
     "name": "stdout",
     "output_type": "stream",
     "text": [
      "Enter English Marks   = 31\n",
      "Enter Urdu Marks      = 31\n",
      "Enter Islamiat Marks  = 31\n",
      "Enter Physics Marks   = 31\n",
      "Enter Math Marks      = 31\n",
      "\n",
      "Obtained Marks =  155\n",
      "Percentage =  31.0 %\n",
      " Fail \n"
     ]
    }
   ],
   "source": [
    "English  = eval(input(\"Enter English Marks   = \"))\n",
    "Urdu     = eval(input(\"Enter Urdu Marks      = \"))\n",
    "Islamiat = eval(input(\"Enter Islamiat Marks  = \"))\n",
    "Physics  = eval(input(\"Enter Physics Marks   = \"))\n",
    "Math     = eval(input(\"Enter Math Marks      = \"))\n",
    "Obtained_Marks = English + Urdu + Islamiat + Physics + Math\n",
    "\n",
    "print (\"\\nObtained Marks = \" , Obtained_Marks)\n",
    "Percentage = (Obtained_Marks / 500)*100\n",
    "\n",
    "print(\"Percentage = \" , Percentage , \"%\")\n",
    "\n",
    "obtain = str(Obtained_Marks)\n",
    "per = str(Percentage)\n",
    "\n",
    "if Percentage >= 80 :\n",
    "    a = print(\" A+ Grade\")\n",
    "    new=open(\"Grade.txt\",\"w+\")\n",
    "    new.write(\"\\nObtained Marks = \"+obtain)\n",
    "    new.write(\"\\nPercentage  = \"+per+\"%\")\n",
    "    new.write(\"\\n A+ Grade\")    \n",
    "    new.close()\n",
    "elif Percentage >= 70 :\n",
    "    b = print(\" A Grade\")\n",
    "    new=open(\"Grade.txt\",\"w+\")\n",
    "    new.write(\"\\nObtained Marks = \"+obtain)\n",
    "    new.write(\"\\nPercentage  = \"+per+\"%\")\n",
    "    new.write(\"\\n A Grade\")\n",
    "    new.close()\n",
    "elif Percentage >= 60 :\n",
    "    c = print(\" B Grade\")\n",
    "    new=open(\"Grade.txt\",\"w+\")\n",
    "    new.write(\"\\nObtained Marks = \"+obtain)\n",
    "    new.write(\"\\nPercentage  = \"+per+\"%\")\n",
    "    new.write(\"\\n B Grade\")\n",
    "    new.close()\n",
    "elif Percentage >= 50 :\n",
    "    d = print(\" C Grade\")\n",
    "    new=open(\"Grade.txt\",\"w+\")\n",
    "    new.write(\"\\nObtained Marks = \"+obtain)\n",
    "    new.write(\"\\nPercentage  = \"+per+\"%\")\n",
    "    new.write('\\n C Grade')\n",
    "    new.close()\n",
    "elif Percentage >= 40 :\n",
    "    e = print(\" D Grade\")\n",
    "    new=open(\"Grade.txt\",\"w+\")\n",
    "    new.write(\"\\nObtained Marks = \"+obtain)\n",
    "    new.write(\"\\nPercentage  = \"+per+\"%\")\n",
    "    new.write(\"\\n D Grade\")\n",
    "    new.close()\n",
    "else :\n",
    "    f = print (\" Fail \")\n",
    "    new=open(\"Grade_Student.txt\",\"w+\")\n",
    "    new.write(\"\\nObtained Marks = \"+obtain)\n",
    "    new.write(\"\\nPercentage  = \"+per+\"%\")\n",
    "    new.write(\"\\n Fail\")\n",
    "    new.close()"
   ]
  },
  {
   "cell_type": "code",
   "execution_count": null,
   "metadata": {},
   "outputs": [],
   "source": []
  }
 ],
 "metadata": {
  "kernelspec": {
   "display_name": "Python 3",
   "language": "python",
   "name": "python3"
  },
  "language_info": {
   "codemirror_mode": {
    "name": "ipython",
    "version": 3
   },
   "file_extension": ".py",
   "mimetype": "text/x-python",
   "name": "python",
   "nbconvert_exporter": "python",
   "pygments_lexer": "ipython3",
   "version": "3.7.3"
  }
 },
 "nbformat": 4,
 "nbformat_minor": 2
}
